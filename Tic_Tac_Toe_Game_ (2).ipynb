{
  "nbformat": 4,
  "nbformat_minor": 0,
  "metadata": {
    "colab": {
      "provenance": []
    },
    "kernelspec": {
      "name": "python3",
      "display_name": "Python 3"
    },
    "language_info": {
      "name": "python"
    }
  },
  "cells": [
    {
      "cell_type": "markdown",
      "source": [
        "#Tic Tac Toe Game\n",
        "Tic Tac Toe Game with add a new function to check if the player want to play again or not"
      ],
      "metadata": {
        "id": "KRJLfmxC2tif"
      }
    },
    {
      "cell_type": "code",
      "source": [
        "# game board as 3*3 list\n",
        "board = [['', '', ''],\n",
        "         ['', '', ''],\n",
        "         ['', '', '']]"
      ],
      "metadata": {
        "id": "lI6zMcfFv8iN"
      },
      "execution_count": 26,
      "outputs": []
    },
    {
      "cell_type": "code",
      "source": [
        "# function for print the game board\n",
        "def print_board(board):\n",
        "    for row in board:\n",
        "        print(' | '.join(row))\n",
        "        print('---------')"
      ],
      "metadata": {
        "id": "UXwIAtGg08oj"
      },
      "execution_count": 27,
      "outputs": []
    },
    {
      "cell_type": "code",
      "source": [
        "# Function to handle player moves\n",
        "def make_move(board, player):\n",
        "    while True:\n",
        "        row = int(input(\"Enter the row (0-2): \"))\n",
        "        col = int(input(\"Enter the column (0-2): \"))\n",
        "\n",
        "        if board[row][col] == ' ':\n",
        "            board[row][col] = player\n",
        "            break\n",
        "        else:\n",
        "            print(\"Invalid move. Please try again.\")"
      ],
      "metadata": {
        "id": "0gOSP6KHv8d5"
      },
      "execution_count": 28,
      "outputs": []
    },
    {
      "cell_type": "code",
      "source": [
        "\n",
        "# Function to check for a win\n",
        "def check_win(board, player):\n",
        "    # Check rows\n",
        "    for i in range(3):\n",
        "        if board[i][0] == board[i][1] == board[i][2] == player:\n",
        "            return True\n",
        "\n",
        "    # Check columns\n",
        "    for i in range(3):\n",
        "        if board[0][i] == board[1][i] == board[2][i] == player:\n",
        "            return True\n",
        "\n",
        "    # Check diagonals\n",
        "    if board[0][0] == board[1][1] == board[2][2] == player:\n",
        "        return True\n",
        "    if board[2][0] == board[1][1] == board[0][2] == player:\n",
        "        return True\n",
        "\n",
        "    return False"
      ],
      "metadata": {
        "id": "258GQy8jv8aS"
      },
      "execution_count": 29,
      "outputs": []
    },
    {
      "cell_type": "code",
      "source": [
        "# Function to check for a tie\n",
        "def check_tie(board):\n",
        "    for row in board:\n",
        "        if ' ' in row:\n",
        "            return False\n",
        "    return True"
      ],
      "metadata": {
        "id": "wCqhb35Vv8Yc"
      },
      "execution_count": 32,
      "outputs": []
    },
    {
      "cell_type": "code",
      "source": [
        "# Function to ask the player if they want to play again\n",
        "def play_again():\n",
        "    while True:\n",
        "        choice = input(\"Do you want to play again? (Y/N): \")\n",
        "        if choice.lower() == 'y':\n",
        "            return True\n",
        "        elif choice.lower() == 'n':\n",
        "            return False\n",
        "        else:\n",
        "            print(\"Invalid choice. Please enter 'Y' or 'N'.\")"
      ],
      "metadata": {
        "id": "Exv2z_xbv8Uq"
      },
      "execution_count": 33,
      "outputs": []
    },
    {
      "cell_type": "code",
      "source": [
        "# Main game loop\n",
        "def play_game():\n",
        "    while True:\n",
        "        # Initialize the board\n",
        "        board = [[' ' for _ in range(3)] for _ in range(3)]\n",
        "        current_player = 'X'\n",
        "\n",
        "        while True:\n",
        "            # Print the board\n",
        "            print(\"Current Board:\")\n",
        "            print_board(board)\n",
        "\n",
        "            # Get the current player's move\n",
        "            print(f\"Player {current_player}'s turn:\")\n",
        "            make_move(board, current_player)\n",
        "\n",
        "            # Check for a win\n",
        "            if check_win(board, current_player):\n",
        "                print(f\"Player {current_player} wins!\")\n",
        "                break\n",
        "\n",
        "            # Check for a tie\n",
        "            if check_tie(board):\n",
        "                print(\"It's a tie!\")\n",
        "                break\n",
        "\n",
        "            # Switch to the other player\n",
        "            current_player = 'O' if current_player == 'X' else 'X'\n",
        "\n",
        "        # Ask the player if they want to play again\n",
        "        if not play_again():\n",
        "            break"
      ],
      "metadata": {
        "id": "HhFWl4Xhv8Sz"
      },
      "execution_count": 34,
      "outputs": []
    },
    {
      "cell_type": "code",
      "source": [
        "\n",
        "# Start the game\n",
        "play_game()"
      ],
      "metadata": {
        "colab": {
          "base_uri": "https://localhost:8080/"
        },
        "id": "jOibWTaYv8Dm",
        "outputId": "b4b67f4d-bbcb-4713-9ab3-edb8a2014a27"
      },
      "execution_count": 35,
      "outputs": [
        {
          "name": "stdout",
          "output_type": "stream",
          "text": [
            "Current Board:\n",
            "  |   |  \n",
            "---------\n",
            "  |   |  \n",
            "---------\n",
            "  |   |  \n",
            "---------\n",
            "Player X's turn:\n",
            "Enter the row (0-2): 1\n",
            "Enter the column (0-2): 1\n",
            "Current Board:\n",
            "  |   |  \n",
            "---------\n",
            "  | X |  \n",
            "---------\n",
            "  |   |  \n",
            "---------\n",
            "Player O's turn:\n",
            "Enter the row (0-2): 0\n",
            "Enter the column (0-2): 0\n",
            "Current Board:\n",
            "O |   |  \n",
            "---------\n",
            "  | X |  \n",
            "---------\n",
            "  |   |  \n",
            "---------\n",
            "Player X's turn:\n",
            "Enter the row (0-2): 1\n",
            "Enter the column (0-2): 2\n",
            "Current Board:\n",
            "O |   |  \n",
            "---------\n",
            "  | X | X\n",
            "---------\n",
            "  |   |  \n",
            "---------\n",
            "Player O's turn:\n",
            "Enter the row (0-2): 1\n",
            "Enter the column (0-2): 0\n",
            "Current Board:\n",
            "O |   |  \n",
            "---------\n",
            "O | X | X\n",
            "---------\n",
            "  |   |  \n",
            "---------\n",
            "Player X's turn:\n",
            "Enter the row (0-2): 0\n",
            "Enter the column (0-2): 2\n",
            "Current Board:\n",
            "O |   | X\n",
            "---------\n",
            "O | X | X\n",
            "---------\n",
            "  |   |  \n",
            "---------\n",
            "Player O's turn:\n",
            "Enter the row (0-2): 0\n",
            "Enter the column (0-2): 2\n",
            "Invalid move. Please try again.\n",
            "Enter the row (0-2): 2\n",
            "Enter the column (0-2): 0\n",
            "Player O wins!\n",
            "Do you want to play again? (Y/N): Y\n",
            "Current Board:\n",
            "  |   |  \n",
            "---------\n",
            "  |   |  \n",
            "---------\n",
            "  |   |  \n",
            "---------\n",
            "Player X's turn:\n",
            "Enter the row (0-2): 1\n",
            "Enter the column (0-2): 1\n",
            "Current Board:\n",
            "  |   |  \n",
            "---------\n",
            "  | X |  \n",
            "---------\n",
            "  |   |  \n",
            "---------\n",
            "Player O's turn:\n",
            "Enter the row (0-2): 0\n",
            "Enter the column (0-2): 2\n",
            "Current Board:\n",
            "  |   | O\n",
            "---------\n",
            "  | X |  \n",
            "---------\n",
            "  |   |  \n",
            "---------\n",
            "Player X's turn:\n",
            "Enter the row (0-2): 2\n",
            "Enter the column (0-2): 1\n",
            "Current Board:\n",
            "  |   | O\n",
            "---------\n",
            "  | X |  \n",
            "---------\n",
            "  | X |  \n",
            "---------\n",
            "Player O's turn:\n",
            "Enter the row (0-2): 0\n",
            "Enter the column (0-2): 0\n",
            "Current Board:\n",
            "O |   | O\n",
            "---------\n",
            "  | X |  \n",
            "---------\n",
            "  | X |  \n",
            "---------\n",
            "Player X's turn:\n",
            "Enter the row (0-2): 0\n",
            "Enter the column (0-2): 1\n",
            "Player X wins!\n",
            "Do you want to play again? (Y/N): N\n"
          ]
        }
      ]
    }
  ]
}